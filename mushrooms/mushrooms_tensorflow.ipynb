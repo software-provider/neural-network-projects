{
 "cells": [
  {
   "cell_type": "markdown",
   "metadata": {},
   "source": [
    "# Mushrooms classification - Tensorflow\n",
    "\n",
    "This notebook is used to build and train a binary classification neural network. We will train it for the [Kaggle - Mushroom Classification](https://www.kaggle.com/uciml/mushroom-classification) project. The data should be already processed and saved to .npy files. See the `mushrooms_data_preparation.ipynb` notebook from this repository to process the data."
   ]
  },
  {
   "cell_type": "markdown",
   "metadata": {},
   "source": [
    "### Import used modules\n",
    "\n",
    "The only external modules used for this notebook are [numpy](http://www.numpy.org/), [tensorflow](https://www.tensorflow.org/), and [matplotlib](https://matplotlib.org/)."
   ]
  },
  {
   "cell_type": "code",
   "execution_count": 1,
   "metadata": {},
   "outputs": [],
   "source": [
    "%matplotlib inline\n",
    "\n",
    "import sys\n",
    "from pathlib import Path\n",
    "\n",
    "import numpy as np\n",
    "import tensorflow as tf\n",
    "import matplotlib.pyplot as plt\n",
    "\n",
    "SCRIPT_DIR = Path.cwd()\n",
    "sys.path.append(str(SCRIPT_DIR.parent))\n",
    "\n",
    "from data_utils.data_iterator import DataIterator"
   ]
  },
  {
   "cell_type": "markdown",
   "metadata": {},
   "source": [
    "## Load the processed data\n",
    "\n",
    "First we need to load the processed data. This files are loaded as numpy arrays."
   ]
  },
  {
   "cell_type": "code",
   "execution_count": 2,
   "metadata": {},
   "outputs": [],
   "source": [
    "training_data = np.load(open(\"training_data/mushrooms_training_data.npy\", 'rb'))\n",
    "training_labels = np.load(open(\"training_data/mushrooms_training_labels.npy\", 'rb'))\n",
    "validation_data = np.load(open(\"training_data/mushrooms_validation_data.npy\", 'rb'))\n",
    "validation_labels = np.load(open(\"training_data/mushrooms_validation_labels.npy\", 'rb'))\n",
    "test_data = np.load(open(\"training_data/mushrooms_test_data.npy\", 'rb'))\n",
    "test_labels = np.load(open(\"training_data/mushrooms_test_labels.npy\", 'rb'))"
   ]
  },
  {
   "cell_type": "markdown",
   "metadata": {},
   "source": [
    "Print data type and arrays shapes."
   ]
  },
  {
   "cell_type": "code",
   "execution_count": 3,
   "metadata": {},
   "outputs": [
    {
     "name": "stdout",
     "output_type": "stream",
     "text": [
      "Loaded data type = <class 'numpy.ndarray'>\n",
      "Training data shape = (6500, 117)\n",
      "Training labels shape = (6500, 1)\n",
      "Validation data shape = (812, 117)\n",
      "Validation labels shape = (812, 1)\n",
      "Test data shape = (812, 117)\n",
      "Test labels shape = (812, 1)\n"
     ]
    }
   ],
   "source": [
    "print(\"Loaded data type = {}\".format(type(training_data)))\n",
    "print(\"Training data shape = {}\".format(training_data.shape))\n",
    "print(\"Training labels shape = {}\".format(training_labels.shape))\n",
    "print(\"Validation data shape = {}\".format(validation_data.shape))\n",
    "print(\"Validation labels shape = {}\".format(validation_labels.shape))\n",
    "print(\"Test data shape = {}\".format(test_data.shape))\n",
    "print(\"Test labels shape = {}\".format(test_labels.shape))"
   ]
  },
  {
   "cell_type": "markdown",
   "metadata": {},
   "source": [
    "## Create model\n",
    "\n",
    "Now we will define our neural network model. We will create a tensorflow graph that we can later train. This graph should have:\n",
    "- **Placeholders**: These are the model inputs. When training or evaluating the model, we will feed the graph through this operations with out data.\n",
    "- **Hidden layers**: In this model we will use a stack of [fully connected layers](https://www.tensorflow.org/api_docs/python/tf/layers/dense). The number, size and activation function of this layers can be changed from the model parameters variables.\n",
    "- **Output layer**: We will use a fully connected layer, with size 1 (one neuron) and a [sigmoid](https://en.wikipedia.org/wiki/Sigmoid_function) activation function (the standart output function for binary classification).\n",
    "- **Cost computation**: We need a tensorflow operation to calculate the cost of the current model prediction, with respect to the real labels. We will use the [logarithmic loss](https://datawookie.netlify.com/blog/2015/12/making-sense-of-logarithmic-loss/) for this task.\n",
    "- **Training operations**: This tensorflow operations will be used to perform one training step (gradients calculation and parameters update) so the model decrease the cost.\n",
    "- **Summaries**: We will add [Tensorboard](https://www.tensorflow.org/guide/summaries_and_tensorboard) summaries to vizualize the model graph (architecture), the training process, and some parameters of the model.\n",
    "- **Metrics**: We will add operations to check the performance of the model with respect to the true labels we are trying to predict."
   ]
  },
  {
   "cell_type": "markdown",
   "metadata": {},
   "source": [
    "### Model parameters\n",
    "\n",
    "This parameters are used to easily change the model architecture to try different configurations and find the best for our specific task."
   ]
  },
  {
   "cell_type": "code",
   "execution_count": 4,
   "metadata": {},
   "outputs": [],
   "source": [
    "# Parameters\n",
    "fully_connected_layers = 3\n",
    "fully_connected_size = 50\n",
    "fully_connected_activation = tf.nn.relu"
   ]
  },
  {
   "cell_type": "markdown",
   "metadata": {},
   "source": [
    "### Create placeholders\n",
    "\n",
    "The placeholders are created using the data shapes. The first dimension is `None`, because this is the batch size, and we want to change it for different runs."
   ]
  },
  {
   "cell_type": "code",
   "execution_count": 5,
   "metadata": {},
   "outputs": [
    {
     "name": "stdout",
     "output_type": "stream",
     "text": [
      "Tensor(\"inputs:0\", shape=(?, 117), dtype=float32)\n",
      "Tensor(\"labels:0\", shape=(?, 1), dtype=float32)\n",
      "Tensor(\"learning_rate:0\", shape=(), dtype=float32)\n",
      "<tf.Variable 'global_step:0' shape=() dtype=int32_ref>\n"
     ]
    }
   ],
   "source": [
    "# Data inputs\n",
    "x = tf.placeholder(dtype=tf.float32, shape=[None, training_data.shape[1]], name=\"inputs\")\n",
    "print(x)\n",
    "# Labels inputs\n",
    "y = tf.placeholder(dtype=tf.float32, shape=[None, 1], name=\"labels\")\n",
    "print(y)\n",
    "\n",
    "# Learning rate input\n",
    "learning_rate_input = tf.placeholder(dtype=tf.float32, shape=[], name=\"learning_rate\")\n",
    "print(learning_rate_input)\n",
    "\n",
    "# Used in training to keep track of variables updates\n",
    "global_step = tf.get_variable(name=\"global_step\",\n",
    "                              shape=[],\n",
    "                              dtype=tf.int32,\n",
    "                              initializer=tf.constant_initializer(0),\n",
    "                              trainable=False)\n",
    "print(global_step)"
   ]
  },
  {
   "cell_type": "markdown",
   "metadata": {},
   "source": [
    "### Create hidden layers"
   ]
  },
  {
   "cell_type": "code",
   "execution_count": 6,
   "metadata": {},
   "outputs": [
    {
     "name": "stdout",
     "output_type": "stream",
     "text": [
      "Tensor(\"dense_1/Relu:0\", shape=(?, 50), dtype=float32)\n",
      "Tensor(\"dense_2/Relu:0\", shape=(?, 50), dtype=float32)\n",
      "Tensor(\"dense_3/Relu:0\", shape=(?, 50), dtype=float32)\n"
     ]
    }
   ],
   "source": [
    "dense_layers = fully_connected_layers\n",
    "\n",
    "# Create first dense layer\n",
    "# Shape: (batch_size, fully_connected_size)\n",
    "dense = tf.layers.dense(x,\n",
    "                        units=fully_connected_size,\n",
    "                        activation=fully_connected_activation,\n",
    "                        name=\"dense_1\")\n",
    "\n",
    "print(dense)\n",
    "\n",
    "dense_layers -= 1\n",
    "dense_layer_count = 2\n",
    "\n",
    "# Create next dense layers\n",
    "for i in range(dense_layers):\n",
    "    # Shape: (batch_size, fully_connected_size)\n",
    "    dense = tf.layers.dense(dense,\n",
    "                            units=fully_connected_size,\n",
    "                            activation=fully_connected_activation,\n",
    "                            name=\"dense_{}\".format(dense_layer_count))\n",
    "    \n",
    "    print(dense)\n",
    "    \n",
    "    dense_layer_count += 1"
   ]
  },
  {
   "cell_type": "markdown",
   "metadata": {},
   "source": [
    "### Create output layer"
   ]
  },
  {
   "cell_type": "code",
   "execution_count": 7,
   "metadata": {},
   "outputs": [
    {
     "name": "stdout",
     "output_type": "stream",
     "text": [
      "Tensor(\"output/Sigmoid:0\", shape=(?, 1), dtype=float32)\n"
     ]
    }
   ],
   "source": [
    "# Shape: (batch_size, 1)\n",
    "output_layer = tf.layers.dense(dense, \n",
    "                               units=1, \n",
    "                               activation=tf.nn.sigmoid,\n",
    "                               name=\"output\")\n",
    "\n",
    "print(output_layer)"
   ]
  },
  {
   "cell_type": "markdown",
   "metadata": {},
   "source": [
    "### Cost and Optimizer\n",
    "\n",
    "Now we create the tensorflow operations to calculate the cost of the model and perform one training step. We will use gradient descent to optimize our model."
   ]
  },
  {
   "cell_type": "code",
   "execution_count": 8,
   "metadata": {},
   "outputs": [
    {
     "name": "stdout",
     "output_type": "stream",
     "text": [
      "Tensor(\"cost_and_optimizer/loss_op:0\", shape=(?, 1), dtype=float32)\n",
      "Tensor(\"cost_and_optimizer/cost:0\", shape=(), dtype=float32)\n"
     ]
    }
   ],
   "source": [
    "with tf.variable_scope(\"cost_and_optimizer\"):\n",
    "    \n",
    "    # Loss value for the model output of each data point fed to the graph\n",
    "    # Shape: (batch_size, 1)\n",
    "    loss_op = tf.nn.sigmoid_cross_entropy_with_logits(labels=y,\n",
    "                                                      logits=output_layer,\n",
    "                                                      name=\"loss_op\")\n",
    "    print(loss_op)\n",
    "    \n",
    "    # Cost value for all the data points fed to the model\n",
    "    # Shape: ()\n",
    "    cost = tf.reduce_sum(loss_op, name=\"cost\")\n",
    "    print(cost)\n",
    "    \n",
    "    # Model optimizer\n",
    "    optimizer = tf.train.GradientDescentOptimizer(learning_rate=learning_rate_input,\n",
    "                                                 name=\"gradient_descent_optimizer\")\n",
    "    \n",
    "    # Trining operation. Perform one parameters update. Increment global_step by 1.\n",
    "    training_op = optimizer.minimize(cost, global_step=global_step)"
   ]
  },
  {
   "cell_type": "markdown",
   "metadata": {},
   "source": [
    "### Model metrics"
   ]
  },
  {
   "cell_type": "code",
   "execution_count": 9,
   "metadata": {},
   "outputs": [],
   "source": [
    "# The model ouputs a value between 0 and 1. We need to transform \n",
    "# it to the predicted label (0 or 1)\n",
    "predictions = tf.round(output_layer, name=\"predictions\")\n",
    "\n",
    "# Metrics\n",
    "with tf.name_scope(\"metrics\"):\n",
    "    # Get the model accuracy.\n",
    "    accuracy = tf.metrics.accuracy(labels=y,\n",
    "                                   predictions=predictions,\n",
    "                                   name=\"accuracy\")"
   ]
  },
  {
   "cell_type": "markdown",
   "metadata": {},
   "source": [
    "### Tensorboard summaries"
   ]
  },
  {
   "cell_type": "code",
   "execution_count": 10,
   "metadata": {},
   "outputs": [],
   "source": [
    "tensorboard_logs_dir = Path(Path.cwd(), \"tensorboard_logs\")\n",
    "tensorboard_logs_dir.mkdir(exist_ok=True)\n",
    "\n",
    "with tf.name_scope(\"summaries\"):\n",
    "    tf.summary.scalar(\"cost\", cost)\n",
    "    tf.summary.scalar(\"accuracy\", accuracy[0])\n",
    "    tf.summary.histogram(\"output_layer\", output_layer)\n",
    "    summary_op = tf.summary.merge_all()"
   ]
  },
  {
   "cell_type": "markdown",
   "metadata": {
    "collapsed": true
   },
   "source": [
    "## Model training\n",
    "\n",
    "Now it's time to train the model!\n",
    "\n",
    "We will feed the data to the graph, one batch at a time. We will perform a parameters update each time we feed a batch ([mini batch gradient descent](https://machinelearningmastery.com/gentle-introduction-mini-batch-gradient-descent-configure-batch-size/)).\n",
    "\n",
    "Every some training steps, we will evaluate the model on the validation data, to check how the model is performing on data not used for training."
   ]
  },
  {
   "cell_type": "markdown",
   "metadata": {},
   "source": [
    "### Training hyperparameters\n",
    "\n",
    "These are the hyperparameters we need to tune in order to get the model and training to work. Try different values to see how the training and model performance change."
   ]
  },
  {
   "cell_type": "code",
   "execution_count": 11,
   "metadata": {},
   "outputs": [],
   "source": [
    "# Hyperparameters\n",
    "epochs = 20\n",
    "batch_size = 128\n",
    "learning_rate = 0.001"
   ]
  },
  {
   "cell_type": "markdown",
   "metadata": {},
   "source": [
    "### Create lists of batchs\n",
    "\n",
    "The batches are generated using the DataIterator of this repository. It outputs a batch of the required size at a time. It can shuffle the data before creating the batches, so the composition of each batch is different for each epoch (full pass over the entire training data)."
   ]
  },
  {
   "cell_type": "code",
   "execution_count": 12,
   "metadata": {},
   "outputs": [],
   "source": [
    "training_iterator = DataIterator(data=training_data,\n",
    "                                 labels=training_labels,\n",
    "                                 batch_size=batch_size,\n",
    "                                 shuffle=True)\n",
    "\n",
    "validation_iterator = DataIterator(data=validation_data,\n",
    "                                   labels=validation_labels,\n",
    "                                   batch_size=batch_size,\n",
    "                                   shuffle=True)"
   ]
  },
  {
   "cell_type": "markdown",
   "metadata": {},
   "source": [
    "### Training operations\n",
    "\n",
    "Now that we have the model graph, the training operations, and the data batch generators, we can train the model."
   ]
  },
  {
   "cell_type": "code",
   "execution_count": 13,
   "metadata": {},
   "outputs": [],
   "source": [
    "## Useful variables\n",
    "# Validate the model every some global steps and print information\n",
    "val_period = 10\n",
    "# Save the model to file every some global steps\n",
    "save_period = 20"
   ]
  },
  {
   "cell_type": "code",
   "execution_count": 18,
   "metadata": {},
   "outputs": [
    {
     "name": "stdout",
     "output_type": "stream",
     "text": [
      "Epoch 0 - Global step 0 - Training cost 90.17144775390625 - Training accuracy 0.0 - Validation cost 96.55787004743304 - Validation accuracy 0.679427078792027\n",
      "Model saved in path: ./trained_models/tensorflow/model.ckpt\n",
      "Epoch 0 - Global step 10 - Training cost 83.17745208740234 - Training accuracy 0.5865200757980347 - Validation cost 94.33516148158482 - Validation accuracy 0.6083534104483468\n",
      "Epoch 0 - Global step 20 - Training cost 84.18740844726562 - Training accuracy 0.596319317817688 - Validation cost 92.26133510044643 - Validation accuracy 0.6118952887398856\n",
      "Model saved in path: ./trained_models/tensorflow/model.ckpt\n",
      "Epoch 0 - Global step 30 - Training cost 80.1304931640625 - Training accuracy 0.6247609853744507 - Validation cost 89.43201555524554 - Validation accuracy 0.6371228354317802\n",
      "Epoch 0 - Global step 40 - Training cost 78.2999267578125 - Training accuracy 0.6651529669761658 - Validation cost 87.14884730747768 - Validation accuracy 0.6740110261099679\n",
      "Model saved in path: ./trained_models/tensorflow/model.ckpt\n",
      "Epoch 0 - Global step 50 - Training cost 58.75263214111328 - Training accuracy 0.7037284970283508 - Validation cost 85.09729875837054 - Validation accuracy 0.7099593026297433\n",
      "Epoch 1 - Global step 60 - Training cost 73.83423614501953 - Training accuracy 0.7332322001457214 - Validation cost 83.37571498325893 - Validation accuracy 0.73771790095738\n",
      "Model saved in path: ./trained_models/tensorflow/model.ckpt\n",
      "Epoch 1 - Global step 70 - Training cost 71.45244598388672 - Training accuracy 0.757662832736969 - Validation cost 81.49465506417411 - Validation accuracy 0.7621609824044364\n",
      "Epoch 1 - Global step 80 - Training cost 73.385986328125 - Training accuracy 0.7771726250648499 - Validation cost 79.94164167131696 - Validation accuracy 0.7802464621407645\n",
      "Model saved in path: ./trained_models/tensorflow/model.ckpt\n",
      "Epoch 1 - Global step 90 - Training cost 66.97773742675781 - Training accuracy 0.7936170101165771 - Validation cost 79.08623395647321 - Validation accuracy 0.7960574286324638\n",
      "Epoch 1 - Global step 100 - Training cost 67.67359924316406 - Training accuracy 0.8072468042373657 - Validation cost 78.33141217912946 - Validation accuracy 0.8095847538539341\n",
      "Model saved in path: ./trained_models/tensorflow/model.ckpt\n",
      "Epoch 2 - Global step 110 - Training cost 63.91295623779297 - Training accuracy 0.8182610273361206 - Validation cost 77.86258370535714 - Validation accuracy 0.8200875691005162\n",
      "Epoch 2 - Global step 120 - Training cost 65.24195098876953 - Training accuracy 0.8280900716781616 - Validation cost 77.508544921875 - Validation accuracy 0.8298279217311314\n",
      "Model saved in path: ./trained_models/tensorflow/model.ckpt\n",
      "Epoch 2 - Global step 130 - Training cost 64.62561798095703 - Training accuracy 0.8363670110702515 - Validation cost 77.23556954520089 - Validation accuracy 0.8377082688467843\n",
      "Epoch 2 - Global step 140 - Training cost 59.70026397705078 - Training accuracy 0.8436644673347473 - Validation cost 77.05402483258929 - Validation accuracy 0.8448200907026019\n",
      "Model saved in path: ./trained_models/tensorflow/model.ckpt\n",
      "Epoch 2 - Global step 150 - Training cost 60.008941650390625 - Training accuracy 0.8504022359848022 - Validation cost 76.89835902622768 - Validation accuracy 0.8512263298034668\n",
      "Epoch 3 - Global step 160 - Training cost 63.2275390625 - Training accuracy 0.8562058210372925 - Validation cost 76.82928466796875 - Validation accuracy 0.857064928327288\n",
      "Model saved in path: ./trained_models/tensorflow/model.ckpt\n",
      "Epoch 3 - Global step 170 - Training cost 62.807228088378906 - Training accuracy 0.8613021373748779 - Validation cost 76.77866908482143 - Validation accuracy 0.8621266910008022\n",
      "Epoch 3 - Global step 180 - Training cost 66.03140258789062 - Training accuracy 0.8659639954566956 - Validation cost 76.48291015625 - Validation accuracy 0.8667516708374023\n",
      "Model saved in path: ./trained_models/tensorflow/model.ckpt\n",
      "Epoch 3 - Global step 190 - Training cost 66.18663024902344 - Training accuracy 0.870562732219696 - Validation cost 76.63847133091518 - Validation accuracy 0.8710060800824847\n",
      "Epoch 3 - Global step 200 - Training cost 62.64004135131836 - Training accuracy 0.874221682548523 - Validation cost 76.38648332868304 - Validation accuracy 0.8747404643467495\n",
      "Model saved in path: ./trained_models/tensorflow/model.ckpt\n",
      "Epoch 4 - Global step 210 - Training cost 63.88031005859375 - Training accuracy 0.8777498602867126 - Validation cost 76.31295340401786 - Validation accuracy 0.878300666809082\n",
      "Epoch 4 - Global step 220 - Training cost 62.46506881713867 - Training accuracy 0.8811421990394592 - Validation cost 76.16805594308036 - Validation accuracy 0.8817627770560128\n",
      "Model saved in path: ./trained_models/tensorflow/model.ckpt\n",
      "Epoch 4 - Global step 230 - Training cost 65.05523681640625 - Training accuracy 0.8843638300895691 - Validation cost 76.17098563058036 - Validation accuracy 0.8849620819091797\n",
      "Epoch 4 - Global step 240 - Training cost 62.15089416503906 - Training accuracy 0.8873962163925171 - Validation cost 76.03997802734375 - Validation accuracy 0.8878654071262905\n",
      "Model saved in path: ./trained_models/tensorflow/model.ckpt\n",
      "Epoch 4 - Global step 250 - Training cost 64.95594787597656 - Training accuracy 0.8901471495628357 - Validation cost 75.97110421316964 - Validation accuracy 0.8906279972621373\n",
      "Epoch 5 - Global step 260 - Training cost 66.9195556640625 - Training accuracy 0.8927228450775146 - Validation cost 75.93933977399554 - Validation accuracy 0.8931512832641602\n",
      "Model saved in path: ./trained_models/tensorflow/model.ckpt\n",
      "Epoch 5 - Global step 270 - Training cost 63.96868133544922 - Training accuracy 0.8953038454055786 - Validation cost 75.77438790457589 - Validation accuracy 0.8957509994506836\n",
      "Epoch 5 - Global step 280 - Training cost 61.07246780395508 - Training accuracy 0.8977171778678894 - Validation cost 75.72617885044643 - Validation accuracy 0.8981251035417829\n",
      "Model saved in path: ./trained_models/tensorflow/model.ckpt\n",
      "Epoch 5 - Global step 290 - Training cost 58.91027069091797 - Training accuracy 0.8999140858650208 - Validation cost 75.69361223493304 - Validation accuracy 0.900310788835798\n",
      "Epoch 5 - Global step 300 - Training cost 59.57695007324219 - Training accuracy 0.9020919799804688 - Validation cost 75.46936907087054 - Validation accuracy 0.9025143895830426\n",
      "Model saved in path: ./trained_models/tensorflow/model.ckpt\n",
      "Epoch 6 - Global step 310 - Training cost 61.009315490722656 - Training accuracy 0.9041494131088257 - Validation cost 75.41194370814732 - Validation accuracy 0.9045837266104562\n",
      "Epoch 6 - Global step 320 - Training cost 61.268836975097656 - Training accuracy 0.906178891658783 - Validation cost 75.34593854631696 - Validation accuracy 0.9065588542393276\n",
      "Model saved in path: ./trained_models/tensorflow/model.ckpt\n",
      "Epoch 6 - Global step 330 - Training cost 60.0511360168457 - Training accuracy 0.9080124497413635 - Validation cost 75.32803780691964 - Validation accuracy 0.9083367756434849\n",
      "Epoch 6 - Global step 340 - Training cost 61.05860137939453 - Training accuracy 0.9098505973815918 - Validation cost 75.42352294921875 - Validation accuracy 0.9100844519478934\n",
      "Model saved in path: ./trained_models/tensorflow/model.ckpt\n",
      "Epoch 6 - Global step 350 - Training cost 61.862342834472656 - Training accuracy 0.9115835428237915 - Validation cost 75.23725237165179 - Validation accuracy 0.9118509292602539\n",
      "Epoch 7 - Global step 360 - Training cost 66.76324462890625 - Training accuracy 0.9132408499717712 - Validation cost 75.11189488002232 - Validation accuracy 0.9135596411568778\n",
      "Model saved in path: ./trained_models/tensorflow/model.ckpt\n",
      "Epoch 7 - Global step 370 - Training cost 58.876285552978516 - Training accuracy 0.9148792624473572 - Validation cost 75.08259800502232 - Validation accuracy 0.9151879038129535\n",
      "Epoch 7 - Global step 380 - Training cost 67.02163696289062 - Training accuracy 0.9164186716079712 - Validation cost 75.07096644810268 - Validation accuracy 0.9167075157165527\n",
      "Model saved in path: ./trained_models/tensorflow/model.ckpt\n",
      "Epoch 7 - Global step 390 - Training cost 65.49877166748047 - Training accuracy 0.9178543090820312 - Validation cost 75.01138741629464 - Validation accuracy 0.9181372778756278\n",
      "Epoch 7 - Global step 400 - Training cost 59.79742431640625 - Training accuracy 0.919230043888092 - Validation cost 74.90179443359375 - Validation accuracy 0.9194976261683873\n",
      "Model saved in path: ./trained_models/tensorflow/model.ckpt\n"
     ]
    },
    {
     "name": "stdout",
     "output_type": "stream",
     "text": [
      "Epoch 8 - Global step 410 - Training cost 63.63737869262695 - Training accuracy 0.9205475449562073 - Validation cost 74.88872419084821 - Validation accuracy 0.9208041599818638\n",
      "Epoch 8 - Global step 420 - Training cost 61.394874572753906 - Training accuracy 0.9218279123306274 - Validation cost 74.72414725167411 - Validation accuracy 0.9220888274056571\n",
      "Model saved in path: ./trained_models/tensorflow/model.ckpt\n",
      "Epoch 8 - Global step 430 - Training cost 62.320377349853516 - Training accuracy 0.9231600761413574 - Validation cost 74.73165457589286 - Validation accuracy 0.923382077898298\n",
      "Epoch 8 - Global step 440 - Training cost 62.71239471435547 - Training accuracy 0.9243770837783813 - Validation cost 74.68520682198661 - Validation accuracy 0.9246336391993931\n",
      "Model saved in path: ./trained_models/tensorflow/model.ckpt\n",
      "Epoch 8 - Global step 450 - Training cost 61.93427276611328 - Training accuracy 0.9255930781364441 - Validation cost 74.58969552176339 - Validation accuracy 0.9258238247462681\n",
      "Epoch 9 - Global step 460 - Training cost 58.149940490722656 - Training accuracy 0.9267555475234985 - Validation cost 74.56454903738839 - Validation accuracy 0.9269707543509347\n",
      "Model saved in path: ./trained_models/tensorflow/model.ckpt\n",
      "Epoch 9 - Global step 470 - Training cost 62.342041015625 - Training accuracy 0.9278998970985413 - Validation cost 74.54957798549107 - Validation accuracy 0.9281292642865863\n",
      "Epoch 9 - Global step 480 - Training cost 57.891990661621094 - Training accuracy 0.9289864897727966 - Validation cost 74.46477399553571 - Validation accuracy 0.9292168617248535\n",
      "Model saved in path: ./trained_models/tensorflow/model.ckpt\n",
      "Epoch 9 - Global step 490 - Training cost 64.57437896728516 - Training accuracy 0.9300578832626343 - Validation cost 74.52273995535714 - Validation accuracy 0.9302059582301548\n",
      "Epoch 9 - Global step 500 - Training cost 61.507362365722656 - Training accuracy 0.9310288429260254 - Validation cost 74.33297293526786 - Validation accuracy 0.9312032972063337\n",
      "Model saved in path: ./trained_models/tensorflow/model.ckpt\n",
      "Epoch 10 - Global step 510 - Training cost 60.330787658691406 - Training accuracy 0.9319907426834106 - Validation cost 74.28943743024554 - Validation accuracy 0.9322026116507394\n",
      "Epoch 10 - Global step 520 - Training cost 64.68403625488281 - Training accuracy 0.9329333305358887 - Validation cost 74.40756661551339 - Validation accuracy 0.9331236566816058\n",
      "Model saved in path: ./trained_models/tensorflow/model.ckpt\n",
      "Epoch 10 - Global step 530 - Training cost 59.391082763671875 - Training accuracy 0.9337950944900513 - Validation cost 74.17128208705357 - Validation accuracy 0.9340086664472308\n",
      "Epoch 10 - Global step 540 - Training cost 59.720638275146484 - Training accuracy 0.9347667694091797 - Validation cost 74.15692138671875 - Validation accuracy 0.9349795750209263\n",
      "Model saved in path: ./trained_models/tensorflow/model.ckpt\n",
      "Epoch 10 - Global step 550 - Training cost 57.39335632324219 - Training accuracy 0.9357292056083679 - Validation cost 74.17568533761161 - Validation accuracy 0.935894284929548\n",
      "Epoch 10 - Global step 560 - Training cost 48.92251968383789 - Training accuracy 0.9366058707237244 - Validation cost 74.14109584263393 - Validation accuracy 0.936779430934361\n",
      "Model saved in path: ./trained_models/tensorflow/model.ckpt\n",
      "Epoch 11 - Global step 570 - Training cost 60.15656280517578 - Training accuracy 0.937420129776001 - Validation cost 74.03257533482143 - Validation accuracy 0.9375997270856585\n",
      "Epoch 11 - Global step 580 - Training cost 59.808998107910156 - Training accuracy 0.9382952451705933 - Validation cost 74.0191650390625 - Validation accuracy 0.9384797641209194\n",
      "Model saved in path: ./trained_models/tensorflow/model.ckpt\n",
      "Epoch 11 - Global step 590 - Training cost 59.71807861328125 - Training accuracy 0.9391000866889954 - Validation cost 74.07012939453125 - Validation accuracy 0.939281736101423\n",
      "Epoch 11 - Global step 600 - Training cost 60.592464447021484 - Training accuracy 0.9399259090423584 - Validation cost 74.05691964285714 - Validation accuracy 0.9400988306318011\n",
      "Model saved in path: ./trained_models/tensorflow/model.ckpt\n",
      "Epoch 11 - Global step 610 - Training cost 60.15179443359375 - Training accuracy 0.9406381845474243 - Validation cost 73.97351946149554 - Validation accuracy 0.9407998493739537\n",
      "Epoch 12 - Global step 620 - Training cost 62.71803283691406 - Training accuracy 0.941368818283081 - Validation cost 74.01354108537946 - Validation accuracy 0.9415272303989956\n",
      "Model saved in path: ./trained_models/tensorflow/model.ckpt\n",
      "Epoch 12 - Global step 630 - Training cost 65.31993865966797 - Training accuracy 0.942096471786499 - Validation cost 73.92941720145089 - Validation accuracy 0.942256041935512\n",
      "Epoch 12 - Global step 640 - Training cost 61.554466247558594 - Training accuracy 0.9427863359451294 - Validation cost 73.89316231863839 - Validation accuracy 0.9429450716291156\n",
      "Model saved in path: ./trained_models/tensorflow/model.ckpt\n",
      "Epoch 12 - Global step 650 - Training cost 60.33644104003906 - Training accuracy 0.9434991478919983 - Validation cost 73.82945033482143 - Validation accuracy 0.9436591012137276\n",
      "Epoch 12 - Global step 660 - Training cost 61.925113677978516 - Training accuracy 0.9441612958908081 - Validation cost 73.86476353236607 - Validation accuracy 0.9443152972630092\n",
      "Model saved in path: ./trained_models/tensorflow/model.ckpt\n",
      "Epoch 13 - Global step 670 - Training cost 62.542640686035156 - Training accuracy 0.9448140263557434 - Validation cost 73.82161167689732 - Validation accuracy 0.9449439729963031\n",
      "Epoch 13 - Global step 680 - Training cost 61.46754455566406 - Training accuracy 0.9454373717308044 - Validation cost 73.8409423828125 - Validation accuracy 0.9455993516104562\n",
      "Model saved in path: ./trained_models/tensorflow/model.ckpt\n",
      "Epoch 13 - Global step 690 - Training cost 64.16883850097656 - Training accuracy 0.9460564851760864 - Validation cost 73.84183175223214 - Validation accuracy 0.9461842945643834\n",
      "Epoch 13 - Global step 700 - Training cost 56.94512939453125 - Training accuracy 0.9466441869735718 - Validation cost 73.76659284319196 - Validation accuracy 0.9467671939304897\n",
      "Model saved in path: ./trained_models/tensorflow/model.ckpt\n",
      "Epoch 13 - Global step 710 - Training cost 61.58015441894531 - Training accuracy 0.9472288489341736 - Validation cost 73.73458426339286 - Validation accuracy 0.9473605155944824\n",
      "Epoch 14 - Global step 720 - Training cost 61.18956756591797 - Training accuracy 0.9478073716163635 - Validation cost 73.76054164341518 - Validation accuracy 0.9479352406093052\n",
      "Model saved in path: ./trained_models/tensorflow/model.ckpt\n",
      "Epoch 14 - Global step 730 - Training cost 64.23797607421875 - Training accuracy 0.9483535289764404 - Validation cost 73.74066162109375 - Validation accuracy 0.9484656197684151\n",
      "Epoch 14 - Global step 740 - Training cost 60.79564666748047 - Training accuracy 0.948904275894165 - Validation cost 73.66161237444196 - Validation accuracy 0.9490242004394531\n",
      "Model saved in path: ./trained_models/tensorflow/model.ckpt\n",
      "Epoch 14 - Global step 750 - Training cost 61.389488220214844 - Training accuracy 0.9494466781616211 - Validation cost 73.61369977678571 - Validation accuracy 0.9495613915579659\n",
      "Epoch 14 - Global step 760 - Training cost 61.81995391845703 - Training accuracy 0.9499369263648987 - Validation cost 73.61968994140625 - Validation accuracy 0.9500656127929688\n",
      "Model saved in path: ./trained_models/tensorflow/model.ckpt\n",
      "Epoch 15 - Global step 770 - Training cost 60.30345916748047 - Training accuracy 0.9504618048667908 - Validation cost 73.58836146763393 - Validation accuracy 0.9505579130990165\n",
      "Epoch 15 - Global step 780 - Training cost 56.87799835205078 - Training accuracy 0.9509388208389282 - Validation cost 73.57175118582589 - Validation accuracy 0.9510523932320731\n",
      "Model saved in path: ./trained_models/tensorflow/model.ckpt\n",
      "Epoch 15 - Global step 790 - Training cost 58.3280143737793 - Training accuracy 0.9514461755752563 - Validation cost 73.56211635044643 - Validation accuracy 0.9515463284083775\n",
      "Epoch 15 - Global step 800 - Training cost 64.13575744628906 - Training accuracy 0.9519168734550476 - Validation cost 73.57616315569196 - Validation accuracy 0.9520279339381627\n"
     ]
    },
    {
     "name": "stdout",
     "output_type": "stream",
     "text": [
      "Model saved in path: ./trained_models/tensorflow/model.ckpt\n",
      "Epoch 15 - Global step 810 - Training cost 60.40536117553711 - Training accuracy 0.9523699879646301 - Validation cost 73.55629185267857 - Validation accuracy 0.952472414289202\n",
      "Epoch 16 - Global step 820 - Training cost 61.060585021972656 - Training accuracy 0.9528334736824036 - Validation cost 73.57392229352679 - Validation accuracy 0.9529258183070591\n",
      "Model saved in path: ./trained_models/tensorflow/model.ckpt\n",
      "Epoch 16 - Global step 830 - Training cost 63.35520935058594 - Training accuracy 0.9532646536827087 - Validation cost 73.59140450613839 - Validation accuracy 0.9533612387520927\n",
      "Epoch 16 - Global step 840 - Training cost 65.6666259765625 - Training accuracy 0.9536741375923157 - Validation cost 73.56125313895089 - Validation accuracy 0.9537691388811383\n",
      "Model saved in path: ./trained_models/tensorflow/model.ckpt\n",
      "Epoch 16 - Global step 850 - Training cost 61.44354248046875 - Training accuracy 0.9540964961051941 - Validation cost 73.51703752790179 - Validation accuracy 0.9541907991681781\n",
      "Epoch 16 - Global step 860 - Training cost 62.95909881591797 - Training accuracy 0.9545257091522217 - Validation cost 73.4678955078125 - Validation accuracy 0.9546311923435756\n",
      "Model saved in path: ./trained_models/tensorflow/model.ckpt\n",
      "Epoch 17 - Global step 870 - Training cost 61.4276123046875 - Training accuracy 0.954921543598175 - Validation cost 73.46180071149554 - Validation accuracy 0.9550176348005023\n",
      "Epoch 17 - Global step 880 - Training cost 61.063232421875 - Training accuracy 0.9553425312042236 - Validation cost 73.46469552176339 - Validation accuracy 0.9554271016802106\n",
      "Model saved in path: ./trained_models/tensorflow/model.ckpt\n",
      "Epoch 17 - Global step 890 - Training cost 58.34620666503906 - Training accuracy 0.9557594656944275 - Validation cost 73.47861153738839 - Validation accuracy 0.9558441979544503\n",
      "Epoch 17 - Global step 900 - Training cost 64.8642807006836 - Training accuracy 0.9561457633972168 - Validation cost 73.44269670758929 - Validation accuracy 0.9562346594674247\n",
      "Model saved in path: ./trained_models/tensorflow/model.ckpt\n",
      "Epoch 17 - Global step 910 - Training cost 60.72352600097656 - Training accuracy 0.9565024971961975 - Validation cost 73.39473179408482 - Validation accuracy 0.9565902437482562\n",
      "Epoch 18 - Global step 920 - Training cost 61.890953063964844 - Training accuracy 0.9568295478820801 - Validation cost 73.40268380301339 - Validation accuracy 0.9569146973746163\n",
      "Model saved in path: ./trained_models/tensorflow/model.ckpt\n",
      "Epoch 18 - Global step 930 - Training cost 60.32709503173828 - Training accuracy 0.957212507724762 - Validation cost 73.40381731305804 - Validation accuracy 0.957294259752546\n",
      "Epoch 18 - Global step 940 - Training cost 58.997406005859375 - Training accuracy 0.957577109336853 - Validation cost 73.37329973493304 - Validation accuracy 0.9576584271022252\n",
      "Model saved in path: ./trained_models/tensorflow/model.ckpt\n",
      "Epoch 18 - Global step 950 - Training cost 59.213653564453125 - Training accuracy 0.9579289555549622 - Validation cost 73.38139125279018 - Validation accuracy 0.9580027716500419\n",
      "Epoch 18 - Global step 960 - Training cost 61.848201751708984 - Training accuracy 0.9582634568214417 - Validation cost 73.36812046595982 - Validation accuracy 0.9583456856863839\n",
      "Model saved in path: ./trained_models/tensorflow/model.ckpt\n",
      "Epoch 19 - Global step 970 - Training cost 64.84408569335938 - Training accuracy 0.9585902690887451 - Validation cost 73.35077776227679 - Validation accuracy 0.9586636679513114\n",
      "Epoch 19 - Global step 980 - Training cost 62.861385345458984 - Training accuracy 0.9588965177536011 - Validation cost 73.31032889229911 - Validation accuracy 0.9589712960379464\n",
      "Model saved in path: ./trained_models/tensorflow/model.ckpt\n",
      "Epoch 19 - Global step 990 - Training cost 64.5247802734375 - Training accuracy 0.9592062830924988 - Validation cost 73.29791259765625 - Validation accuracy 0.9592829431806292\n",
      "Epoch 19 - Global step 1000 - Training cost 62.236019134521484 - Training accuracy 0.9595385789871216 - Validation cost 73.29459926060268 - Validation accuracy 0.9596136638096401\n",
      "Model saved in path: ./trained_models/tensorflow/model.ckpt\n",
      "Epoch 19 - Global step 1010 - Training cost 59.18570327758789 - Training accuracy 0.9598595499992371 - Validation cost 73.33266775948661 - Validation accuracy 0.9599284444536481\n",
      "Finished 20 epochs!\n"
     ]
    }
   ],
   "source": [
    "# Tensorboard files\n",
    "tensorboard_job_name = \"tensorflow_dl_{}-ds_{}-lr_{}-e_{}-b_{}\".format(fully_connected_layers,\n",
    "                                                                       fully_connected_size,\n",
    "                                                                       learning_rate,\n",
    "                                                                       epochs,\n",
    "                                                                       batch_size)\n",
    "tensorboard_log_dir = Path(tensorboard_logs_dir, tensorboard_job_name)\n",
    "\n",
    "# This tensorflow operations are used to initialize all the variables of the model.\n",
    "init_op = tf.global_variables_initializer()\n",
    "init_l_op = tf.local_variables_initializer()\n",
    "\n",
    "global_step_count = 0\n",
    "\n",
    "with tf.Session() as sess:\n",
    "    \n",
    "    # Initialize graph variables\n",
    "    sess.run(init_op)\n",
    "    sess.run(init_l_op)\n",
    "    \n",
    "    # Training and validation Tensorboard files writers\n",
    "    train_writer = tf.summary.FileWriter(str(Path(tensorboard_log_dir, \"train\")),\n",
    "                                         sess.graph)\n",
    "    validation_writer = tf.summary.FileWriter(str(Path(tensorboard_log_dir, \"validation\")),\n",
    "                                              sess.graph)\n",
    "    \n",
    "    # Set up a Saver for periodically serializing the model\n",
    "    saver = tf.train.Saver(max_to_keep=5)\n",
    "    \n",
    "    # Create list to store usefull data\n",
    "    training_costs = []\n",
    "    training_accuracies = []\n",
    "    validation_costs = []\n",
    "    validation_accuracies = []\n",
    "    \n",
    "    # Iterate over the entire data\n",
    "    for epoch in range(epochs):\n",
    "        \n",
    "        # Iterate over a generator that returns batches\n",
    "        for train_batch in training_iterator:\n",
    "            \n",
    "            global_step_count = sess.run(global_step)\n",
    "            \n",
    "            feed_dict = {x: train_batch[0],\n",
    "                         y: train_batch[1],\n",
    "                         learning_rate_input: learning_rate}\n",
    "            \n",
    "            # Do a gradient update, and log results to Tensorboard               \n",
    "            train_cost, train_accuracy, _, train_summary = sess.run(\n",
    "                [cost, accuracy, training_op, summary_op],\n",
    "                feed_dict=feed_dict)\n",
    "            train_writer.add_summary(train_summary, global_step_count)\n",
    "            \n",
    "            training_costs.append(train_cost)\n",
    "            training_accuracies.append(train_accuracy[0])\n",
    "            \n",
    "            # Evaluate the model on validation set every val_period steps\n",
    "            if global_step_count % val_period == 0:\n",
    "                \n",
    "                val_batch_accuracies = []\n",
    "                val_batch_costs = []\n",
    "                \n",
    "                # Evaluate on validation data\n",
    "                for val_batch in validation_iterator:\n",
    "                    \n",
    "                    validation_feed_dict = {x: val_batch[0],\n",
    "                                            y: val_batch[1]}\n",
    "                    \n",
    "                    val_batch_accuracy, val_batch_cost = sess.run(\n",
    "                        [accuracy, cost],\n",
    "                        feed_dict=validation_feed_dict)\n",
    "                    \n",
    "                    val_batch_accuracies.append(np.sum(val_batch_accuracy[0]))\n",
    "                    val_batch_costs.append(np.sum(val_batch_cost))\n",
    "                \n",
    "                mean_val_accuracy = np.sum(np.array(val_batch_accuracies)) / validation_iterator.total_batches\n",
    "                mean_val_cost = np.sum(np.array(val_batch_costs)) / validation_iterator.total_batches\n",
    "                \n",
    "                val_summary = tf.Summary(value=[\n",
    "                    tf.Summary.Value(tag=\"val_summaries/accuracy\",\n",
    "                                     simple_value=mean_val_accuracy),\n",
    "                    tf.Summary.Value(tag=\"val_summaries/cost\",\n",
    "                                     simple_value=mean_val_cost)])\n",
    "                \n",
    "                validation_writer.add_summary(val_summary, global_step_count)\n",
    "                \n",
    "                validation_costs.append(mean_val_cost)\n",
    "                validation_accuracies.append(mean_val_accuracy)\n",
    "                \n",
    "                # Print information abuot training\n",
    "                print(\"Epoch {} - Global step {} - Training cost {} - Training accuracy {} - \"\n",
    "                      \"Validation cost {} - Validation accuracy {}\".format(epoch,\n",
    "                                                                           global_step_count,\n",
    "                                                                           train_cost,\n",
    "                                                                           train_accuracy[0],\n",
    "                                                                           mean_val_cost,\n",
    "                                                                           mean_val_accuracy))\n",
    "            \n",
    "            # Write a model checkpoint if necessary.\n",
    "            if global_step_count % save_period == 0:\n",
    "                Path(Path.cwd(), \"trained_models\", \"tensorflow\").mkdir(exist_ok=True, parents=True)\n",
    "                save_path = saver.save(sess, \"./trained_models/tensorflow/model.ckpt\")\n",
    "                print(\"Model saved in path: {}\".format(save_path))\n",
    "    \n",
    "    # Done training!\n",
    "    print(\"Finished {} epochs!\".format(epoch + 1))"
   ]
  },
  {
   "cell_type": "markdown",
   "metadata": {},
   "source": [
    "## Plot cost and accuracy during training\n",
    "\n",
    "Now we plot the how the cost and accuracy change during training, for both the training data and the validation data. This information is also ploted in Tensorboard, but we plot it here anyways.\n",
    "\n",
    "*Note: The training cost and accuracy is for one batch of data, but for the validation test, we plot the mean accuracy and cost over all the data batches.*"
   ]
  },
  {
   "cell_type": "code",
   "execution_count": 19,
   "metadata": {},
   "outputs": [
    {
     "data": {
      "image/png": "[encoded data removed]",
      "text/plain": [
       "<Figure size 432x288 with 1 Axes>"
      ]
     },
     "metadata": {},
     "output_type": "display_data"
    }
   ],
   "source": [
    "plt.plot(range(len(training_costs)), training_costs, color=\"red\")\n",
    "plt.title(\"Training cost\")\n",
    "plt.grid()"
   ]
  },
  {
   "cell_type": "code",
   "execution_count": 20,
   "metadata": {},
   "outputs": [
    {
     "data": {
      "image/png": "[encoded data removed]",
      "text/plain": [
       "<Figure size 432x288 with 1 Axes>"
      ]
     },
     "metadata": {},
     "output_type": "display_data"
    }
   ],
   "source": [
    "plt.plot(range(len(training_accuracies)), training_accuracies, color=\"red\")\n",
    "plt.title(\"Training accuracy\")\n",
    "plt.grid()"
   ]
  },
  {
   "cell_type": "code",
   "execution_count": 21,
   "metadata": {},
   "outputs": [
    {
     "data": {
      "image/png": "[encoded data removed]",
      "text/plain": [
       "<Figure size 432x288 with 1 Axes>"
      ]
     },
     "metadata": {},
     "output_type": "display_data"
    }
   ],
   "source": [
    "plt.plot(range(len(validation_costs)), validation_costs)\n",
    "plt.title(\"Validation cost\")\n",
    "plt.grid()"
   ]
  },
  {
   "cell_type": "code",
   "execution_count": 22,
   "metadata": {},
   "outputs": [
    {
     "data": {
      "image/png": "[encoded data removed]",
      "text/plain": [
       "<Figure size 432x288 with 1 Axes>"
      ]
     },
     "metadata": {},
     "output_type": "display_data"
    }
   ],
   "source": [
    "plt.plot(range(len(validation_accuracies)), validation_accuracies)\n",
    "plt.title(\"Validation accuracy\")\n",
    "plt.grid()"
   ]
  },
  {
   "cell_type": "markdown",
   "metadata": {},
   "source": [
    "## Test model\n",
    "\n",
    "We will use the test data we have loaded to test our model performance on unseen data."
   ]
  },
  {
   "cell_type": "code",
   "execution_count": 24,
   "metadata": {},
   "outputs": [
    {
     "name": "stdout",
     "output_type": "stream",
     "text": [
      "INFO:tensorflow:Restoring parameters from trained_models/tensorflow/model.ckpt\n",
      "Test accuracy = 0.9630541801452637\n"
     ]
    }
   ],
   "source": [
    "with tf.Session() as sess:\n",
    "    \n",
    "    saver.restore(sess, \"trained_models/tensorflow/model.ckpt\")\n",
    "    \n",
    "    sess.run(init_l_op)\n",
    "    \n",
    "    test_accuracy = sess.run(accuracy, feed_dict={x: test_data,\n",
    "                                                  y: test_labels})\n",
    "\n",
    "print(\"Test accuracy = {}\".format(test_accuracy[1]))"
   ]
  },
  {
   "cell_type": "markdown",
   "metadata": {},
   "source": [
    "## Tensorboard\n",
    "\n",
    "To use tensorboard open a console, go to the project folder (`\"mushrooms\"`) and type:\n",
    "\n",
    "```bash\n",
    "tensorboard --logdir tensoboard_logs\\\n",
    "```"
   ]
  },
  {
   "cell_type": "markdown",
   "metadata": {},
   "source": [
    "### Tensoboard results\n",
    "\n",
    "#### Model graph\n",
    "\n",
    "The model graph shows the model architecture. The arrows represent the tensors flowing and their shape.\n",
    "\n",
    "![graph](notebook_images/tensorflow_graph.png)\n",
    "\n",
    "#### Output layer values\n",
    "\n",
    "We can se the output layer values progress during training in this histogram. The distribution in the back shows the values when we start the training. There the we can see that the model outputs a lot of values near 0.5, but the model quickly learn to output values near 0 and 1. This layer has a sigmoid activation so the output values are always in the range (0, 1).\n",
    "\n",
    "![output_layer_histograms](notebook_images/tensorflow_output_layer_histograms.png)\n",
    "\n",
    "#### Train set cost and accuracy\n",
    "\n",
    "Tensorboard shows us the scalar values we asked for, in this case the training set cost and accuracy.\n",
    "\n",
    "![training_scalars](notebook_images/tensorflow_training_scalars.png)\n",
    "\n",
    "#### Validation set cost and accuracy\n",
    "\n",
    "We also add scalars in Tensorboard for the validation set cost and accuracy.\n",
    "\n",
    "![validation_scalars](notebook_images/tensorflow_validation_scalars.png)"
   ]
  },
  {
   "cell_type": "code",
   "execution_count": null,
   "metadata": {},
   "outputs": [],
   "source": []
  }
 ],
 "metadata": {
  "kernelspec": {
   "display_name": "Python 3",
   "language": "python",
   "name": "python3"
  },
  "language_info": {
   "codemirror_mode": {
    "name": "ipython",
    "version": 3
   },
   "file_extension": ".py",
   "mimetype": "text/x-python",
   "name": "python",
   "nbconvert_exporter": "python",
   "pygments_lexer": "ipython3",
   "version": "3.6.5"
  }
 },
 "nbformat": 4,
 "nbformat_minor": 2
}
