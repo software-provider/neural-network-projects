{
 "cells": [
  {
   "cell_type": "markdown",
   "metadata": {},
   "source": [
    "# Mushrooms classification - Keras\n",
    "\n",
    "This notebook is used to build and train a binary classification neural network. We will train it for the [Kaggle - Mushroom Classification](https://www.kaggle.com/uciml/mushroom-classification) project. The data should be already processed and saved to .npy files. See the `mushrooms_data_preparation.ipynb` notebook from this repository to process the data."
   ]
  },
  {
   "cell_type": "markdown",
   "metadata": {},
   "source": [
    "### Import used modules\n",
    "\n",
    "The only external modules used for this notebook are [numpy](http://www.numpy.org/), [tensorflow](https://www.tensorflow.org/), and [matplotlib](https://matplotlib.org/)."
   ]
  },
  {
   "cell_type": "code",
   "execution_count": 1,
   "metadata": {},
   "outputs": [],
   "source": [
    "%matplotlib inline\n",
    "\n",
    "import sys\n",
    "from pathlib import Path\n",
    "\n",
    "import numpy as np\n",
    "import tensorflow as tf\n",
    "import matplotlib.pyplot as plt"
   ]
  },
  {
   "cell_type": "markdown",
   "metadata": {},
   "source": [
    "## Load the processed data\n",
    "\n",
    "First we need to load the processed data. This files are loaded as numpy arrays."
   ]
  },
  {
   "cell_type": "code",
   "execution_count": 2,
   "metadata": {},
   "outputs": [],
   "source": [
    "training_data = np.load(open(\"training_data/mushrooms_training_data.npy\", 'rb'))\n",
    "training_labels = np.load(open(\"training_data/mushrooms_training_labels.npy\", 'rb'))\n",
    "validation_data = np.load(open(\"training_data/mushrooms_validation_data.npy\", 'rb'))\n",
    "validation_labels = np.load(open(\"training_data/mushrooms_validation_labels.npy\", 'rb'))\n",
    "test_data = np.load(open(\"training_data/mushrooms_test_data.npy\", 'rb'))\n",
    "test_labels = np.load(open(\"training_data/mushrooms_test_labels.npy\", 'rb'))"
   ]
  },
  {
   "cell_type": "markdown",
   "metadata": {},
   "source": [
    "Print data type and arrays shapes."
   ]
  },
  {
   "cell_type": "code",
   "execution_count": 3,
   "metadata": {},
   "outputs": [
    {
     "name": "stdout",
     "output_type": "stream",
     "text": [
      "Loaded data type = <class 'numpy.ndarray'>\n",
      "Training data shape = (6500, 117)\n",
      "Training labels shape = (6500, 1)\n",
      "Validation data shape = (812, 117)\n",
      "Validation labels shape = (812, 1)\n",
      "Test data shape = (812, 117)\n",
      "Test labels shape = (812, 1)\n"
     ]
    }
   ],
   "source": [
    "print(\"Loaded data type = {}\".format(type(training_data)))\n",
    "print(\"Training data shape = {}\".format(training_data.shape))\n",
    "print(\"Training labels shape = {}\".format(training_labels.shape))\n",
    "print(\"Validation data shape = {}\".format(validation_data.shape))\n",
    "print(\"Validation labels shape = {}\".format(validation_labels.shape))\n",
    "print(\"Test data shape = {}\".format(test_data.shape))\n",
    "print(\"Test labels shape = {}\".format(test_labels.shape))"
   ]
  },
  {
   "cell_type": "markdown",
   "metadata": {},
   "source": [
    "## Create model\n",
    "\n",
    "Now we will define our neural network model. We will create a [Keras](https://www.tensorflow.org/guide/keras) model that we can later train. We need to perform the next operations\n",
    "- **Inputs**: We need to create keras inputs for the model. We will need only a data input.\n",
    "- **Hidden layers**: In this model we will use a stack of keras [fully connected layers](https://www.tensorflow.org/api_docs/python/tf/keras/layers/Dense). The number, size and activation function of this layers can be changed from the model parameters variables.\n",
    "- **Output layer**: We will use a fully connected layer, with size 1 (one neuron) and a [sigmoid](https://en.wikipedia.org/wiki/Sigmoid_function) activation function (the standart output function for binary classification).\n",
    "- **Instantiate model**: We create de keras model indicating the input and output of it.\n",
    "- **Compile model**: We compile the model with the loss function we want to use, the optimizer and the metrics we want to keep trak of.\n",
    "- **Callbacks**: Utilities called at certain points during model training ([info](https://www.tensorflow.org/api_docs/python/tf/keras/callbacks))."
   ]
  },
  {
   "cell_type": "markdown",
   "metadata": {},
   "source": [
    "### Model parameters\n",
    "\n",
    "This parameters are used to easily change the model architecture to try different configurations and find the best for our specific task."
   ]
  },
  {
   "cell_type": "code",
   "execution_count": 4,
   "metadata": {},
   "outputs": [],
   "source": [
    "# Parameters\n",
    "fully_connected_layers = 3\n",
    "fully_connected_size = 50\n",
    "fully_connected_activation = \"relu\""
   ]
  },
  {
   "cell_type": "markdown",
   "metadata": {},
   "source": [
    "### Training hyperparameters\n",
    "\n",
    "These are the hyperparameters we need to tune in order to get the model and training to work. Try different values to see how the training and model performance change."
   ]
  },
  {
   "cell_type": "code",
   "execution_count": 5,
   "metadata": {},
   "outputs": [],
   "source": [
    "# Hyperparameters\n",
    "epochs = 50\n",
    "batch_size = 128\n",
    "learning_rate = 0.01"
   ]
  },
  {
   "cell_type": "markdown",
   "metadata": {},
   "source": [
    "### Create model inputs\n",
    "\n",
    "We first create the model inputs. This are later used to feed data to the model. We need only a data input for this model."
   ]
  },
  {
   "cell_type": "code",
   "execution_count": 6,
   "metadata": {},
   "outputs": [],
   "source": [
    "tf.reset_default_graph()"
   ]
  },
  {
   "cell_type": "code",
   "execution_count": 7,
   "metadata": {},
   "outputs": [
    {
     "name": "stdout",
     "output_type": "stream",
     "text": [
      "Tensor(\"inputs:0\", shape=(?, 117), dtype=float32)\n"
     ]
    }
   ],
   "source": [
    "# Data input\n",
    "x = tf.keras.Input(shape=(training_data.shape[1], ), name=\"inputs\")\n",
    "print(x)"
   ]
  },
  {
   "cell_type": "markdown",
   "metadata": {},
   "source": [
    "### Create hidden layers"
   ]
  },
  {
   "cell_type": "code",
   "execution_count": 8,
   "metadata": {},
   "outputs": [
    {
     "name": "stdout",
     "output_type": "stream",
     "text": [
      "Tensor(\"dense_1/Relu:0\", shape=(?, 50), dtype=float32)\n",
      "Tensor(\"dense_2/Relu:0\", shape=(?, 50), dtype=float32)\n",
      "Tensor(\"dense_3/Relu:0\", shape=(?, 50), dtype=float32)\n"
     ]
    }
   ],
   "source": [
    "dense_layers = fully_connected_layers\n",
    "\n",
    "# Create first dense layer\n",
    "# Shape: (batch_size, fully_connected_size)\n",
    "dense = tf.keras.layers.Dense(fully_connected_size,\n",
    "                              activation=fully_connected_activation,\n",
    "                              name=\"dense_1\")(x)\n",
    "\n",
    "print(dense)\n",
    "\n",
    "dense_layers -= 1\n",
    "dense_layer_count = 2\n",
    "\n",
    "# Create next dense layers\n",
    "for i in range(dense_layers):\n",
    "    # Shape: (batch_size, fully_connected_size)\n",
    "    dense = tf.keras.layers.Dense(fully_connected_size,\n",
    "                                  activation=fully_connected_activation,\n",
    "                                  name=\"dense_{}\".format(dense_layer_count))(dense)\n",
    "    \n",
    "    print(dense)\n",
    "    \n",
    "    dense_layer_count += 1"
   ]
  },
  {
   "cell_type": "markdown",
   "metadata": {},
   "source": [
    "### Create output layer"
   ]
  },
  {
   "cell_type": "code",
   "execution_count": 9,
   "metadata": {},
   "outputs": [
    {
     "name": "stdout",
     "output_type": "stream",
     "text": [
      "Tensor(\"output_layer/Sigmoid:0\", shape=(?, 1), dtype=float32)\n"
     ]
    }
   ],
   "source": [
    "# Shape: (batch_size, 1)\n",
    "output_layer = tf.keras.layers.Dense(1,\n",
    "                                     activation=\"sigmoid\",\n",
    "                                     name=\"output_layer\")(dense)\n",
    "\n",
    "print(output_layer)"
   ]
  },
  {
   "cell_type": "markdown",
   "metadata": {},
   "source": [
    "### Instantiate the model"
   ]
  },
  {
   "cell_type": "code",
   "execution_count": 10,
   "metadata": {},
   "outputs": [],
   "source": [
    "model = tf.keras.Model(inputs=x, outputs=output_layer)"
   ]
  },
  {
   "cell_type": "markdown",
   "metadata": {},
   "source": [
    "### Compile the model"
   ]
  },
  {
   "cell_type": "code",
   "execution_count": 11,
   "metadata": {},
   "outputs": [
    {
     "name": "stdout",
     "output_type": "stream",
     "text": [
      "_________________________________________________________________\n",
      "Layer (type)                 Output Shape              Param #   \n",
      "=================================================================\n",
      "inputs (InputLayer)          (None, 117)               0         \n",
      "_________________________________________________________________\n",
      "dense_1 (Dense)              (None, 50)                5900      \n",
      "_________________________________________________________________\n",
      "dense_2 (Dense)              (None, 50)                2550      \n",
      "_________________________________________________________________\n",
      "dense_3 (Dense)              (None, 50)                2550      \n",
      "_________________________________________________________________\n",
      "output_layer (Dense)         (None, 1)                 51        \n",
      "=================================================================\n",
      "Total params: 11,051\n",
      "Trainable params: 11,051\n",
      "Non-trainable params: 0\n",
      "_________________________________________________________________\n"
     ]
    }
   ],
   "source": [
    "model.compile(optimizer=tf.keras.optimizers.SGD(lr=learning_rate),\n",
    "              loss=\"binary_crossentropy\",\n",
    "              metrics=[\"accuracy\"])\n",
    "model.summary()"
   ]
  },
  {
   "cell_type": "markdown",
   "metadata": {},
   "source": [
    "### Create callbacks"
   ]
  },
  {
   "cell_type": "code",
   "execution_count": 12,
   "metadata": {},
   "outputs": [],
   "source": [
    "# Create callbacks\n",
    "callbacks = []\n",
    "\n",
    "# Model checkpoint (save model)\n",
    "model_dir = Path(Path.cwd(), \"trained_models\", \"keras\")\n",
    "model_dir.mkdir(exist_ok=True, parents=True)\n",
    "model_file = \"./trained_models/keras/model.hdf5\"\n",
    "model_checkpoint = tf.keras.callbacks.ModelCheckpoint(model_file, monitor='val_acc', save_best_only=True)\n",
    "callbacks.append(model_checkpoint)\n",
    "\n",
    "# File with training history (.csv)\n",
    "csv_logger = tf.keras.callbacks.CSVLogger(str(model_dir) + \"/training_history.csv\")\n",
    "callbacks.append(csv_logger)\n",
    "\n",
    "# Tensorboard\n",
    "tensorboard_logs_dir = Path(Path.cwd(), \"tensorboard_logs\")\n",
    "tensorboard_logs_dir.mkdir(exist_ok=True)\n",
    "tensorboard_job_name = \"keras_dl_{}-ds_{}-lr_{}-e_{}-b_{}\".format(fully_connected_layers,\n",
    "                                                                  fully_connected_size,\n",
    "                                                                  learning_rate,\n",
    "                                                                  epochs,\n",
    "                                                                  batch_size)\n",
    "tensorboard_log_dir = Path(tensorboard_logs_dir, tensorboard_job_name)\n",
    "tensorboard_callback = tf.keras.callbacks.TensorBoard(log_dir=str(tensorboard_log_dir),\n",
    "                                                      histogram_freq=1,\n",
    "                                                      write_graph=False,\n",
    "                                                      write_grads=True,\n",
    "                                                      write_images=True,\n",
    "                                                      batch_size=batch_size)\n",
    "callbacks.append(tensorboard_callback)\n",
    "\n",
    "# Early stopping\n",
    "early_stopping = tf.keras.callbacks.EarlyStopping(monitor=\"val_acc\",\n",
    "                                                  patience=10)\n",
    "callbacks.append(early_stopping)"
   ]
  },
  {
   "cell_type": "markdown",
   "metadata": {},
   "source": [
    "### Tensorboard model graph\n",
    "\n",
    "The [tf.keras.callbacks.TensorBoard](https://www.tensorflow.org/api_docs/python/tf/keras/callbacks/TensorBoard) has an argument to save the model graph to Tensorboard, but keras adds a lot of different operations that really mess with the model architecture information, so we will save the model graph using tensorflow."
   ]
  },
  {
   "cell_type": "code",
   "execution_count": 13,
   "metadata": {},
   "outputs": [],
   "source": [
    "with tf.Session() as sess:\n",
    "    writer = tf.summary.FileWriter(str(tensorboard_log_dir))\n",
    "    writer.add_graph(sess.graph)"
   ]
  },
  {
   "cell_type": "markdown",
   "metadata": {},
   "source": [
    "## Model training"
   ]
  },
  {
   "cell_type": "code",
   "execution_count": 14,
   "metadata": {
    "scrolled": false
   },
   "outputs": [
    {
     "name": "stdout",
     "output_type": "stream",
     "text": [
      "Train on 6500 samples, validate on 812 samples\n",
      "Epoch 1/50\n",
      " - 0s - loss: 0.6691 - acc: 0.6665 - val_loss: 0.6408 - val_acc: 0.8411\n",
      "Epoch 2/50\n",
      " - 0s - loss: 0.5895 - acc: 0.8611 - val_loss: 0.5741 - val_acc: 0.9384\n",
      "Epoch 3/50\n",
      " - 0s - loss: 0.4961 - acc: 0.8791 - val_loss: 0.4715 - val_acc: 0.9594\n",
      "Epoch 4/50\n",
      " - 0s - loss: 0.3976 - acc: 0.8891 - val_loss: 0.3511 - val_acc: 0.9606\n",
      "Epoch 5/50\n",
      " - 0s - loss: 0.3155 - acc: 0.8940 - val_loss: 0.2605 - val_acc: 0.9631\n",
      "Epoch 6/50\n",
      " - 0s - loss: 0.2537 - acc: 0.9048 - val_loss: 0.2004 - val_acc: 0.9594\n",
      "Epoch 7/50\n",
      " - 0s - loss: 0.2052 - acc: 0.9203 - val_loss: 0.1636 - val_acc: 0.9581\n",
      "Epoch 8/50\n",
      " - 0s - loss: 0.1660 - acc: 0.9457 - val_loss: 0.1405 - val_acc: 0.9594\n",
      "Epoch 9/50\n",
      " - 0s - loss: 0.1348 - acc: 0.9652 - val_loss: 0.1256 - val_acc: 0.9631\n",
      "Epoch 10/50\n",
      " - 0s - loss: 0.1109 - acc: 0.9754 - val_loss: 0.1164 - val_acc: 0.9655\n",
      "Epoch 11/50\n",
      " - 0s - loss: 0.0925 - acc: 0.9802 - val_loss: 0.1104 - val_acc: 0.9692\n",
      "Epoch 12/50\n",
      " - 0s - loss: 0.0784 - acc: 0.9828 - val_loss: 0.1069 - val_acc: 0.9692\n",
      "Epoch 13/50\n",
      " - 0s - loss: 0.0674 - acc: 0.9854 - val_loss: 0.1048 - val_acc: 0.9680\n",
      "Epoch 14/50\n",
      " - 0s - loss: 0.0587 - acc: 0.9889 - val_loss: 0.1034 - val_acc: 0.9667\n",
      "Epoch 15/50\n",
      " - 0s - loss: 0.0518 - acc: 0.9915 - val_loss: 0.1028 - val_acc: 0.9655\n",
      "Epoch 16/50\n",
      " - 0s - loss: 0.0461 - acc: 0.9923 - val_loss: 0.1013 - val_acc: 0.9667\n",
      "Epoch 17/50\n",
      " - 0s - loss: 0.0414 - acc: 0.9932 - val_loss: 0.1008 - val_acc: 0.9643\n",
      "Epoch 18/50\n",
      " - 0s - loss: 0.0375 - acc: 0.9945 - val_loss: 0.1004 - val_acc: 0.9631\n",
      "Epoch 19/50\n",
      " - 0s - loss: 0.0342 - acc: 0.9954 - val_loss: 0.1001 - val_acc: 0.9618\n",
      "Epoch 20/50\n",
      " - 0s - loss: 0.0313 - acc: 0.9963 - val_loss: 0.0989 - val_acc: 0.9618\n",
      "Epoch 21/50\n",
      " - 0s - loss: 0.0289 - acc: 0.9968 - val_loss: 0.0986 - val_acc: 0.9618\n"
     ]
    }
   ],
   "source": [
    "history = model.fit(training_data, training_labels,\n",
    "                    epochs=epochs,\n",
    "                    validation_data=(validation_data, validation_labels),\n",
    "                    verbose=2,\n",
    "                    batch_size=batch_size,\n",
    "                    callbacks=callbacks,\n",
    "                    shuffle=True)"
   ]
  },
  {
   "cell_type": "markdown",
   "metadata": {},
   "source": [
    "## Plot cost and accuracy during training\n",
    "\n",
    "Now we plot the how the cost and accuracy change during training, for both the training data and the validation data. This information is also ploted in Tensorboard, but we plot it here anyways."
   ]
  },
  {
   "cell_type": "code",
   "execution_count": 18,
   "metadata": {},
   "outputs": [
    {
     "data": {
      "image/png": "[encoded data removed]",
      "text/plain": [
       "<Figure size 432x288 with 1 Axes>"
      ]
     },
     "metadata": {},
     "output_type": "display_data"
    }
   ],
   "source": [
    "plt.plot(range(len(history.history[\"loss\"])), history.history[\"loss\"], color=\"red\")\n",
    "plt.title(\"Training cost\")\n",
    "plt.grid()"
   ]
  },
  {
   "cell_type": "code",
   "execution_count": 19,
   "metadata": {},
   "outputs": [
    {
     "data": {
      "image/png": "[encoded data removed]",
      "text/plain": [
       "<Figure size 432x288 with 1 Axes>"
      ]
     },
     "metadata": {},
     "output_type": "display_data"
    }
   ],
   "source": [
    "plt.plot(range(len(history.history[\"acc\"])), history.history[\"acc\"], color=\"red\")\n",
    "plt.title(\"Training accuracy\")\n",
    "plt.grid()"
   ]
  },
  {
   "cell_type": "code",
   "execution_count": 20,
   "metadata": {},
   "outputs": [
    {
     "data": {
      "image/png": "[encoded data removed]",
      "text/plain": [
       "<Figure size 432x288 with 1 Axes>"
      ]
     },
     "metadata": {},
     "output_type": "display_data"
    }
   ],
   "source": [
    "plt.plot(range(len(history.history[\"val_loss\"])), history.history[\"val_loss\"], color=\"red\")\n",
    "plt.title(\"Validation cost\")\n",
    "plt.grid()"
   ]
  },
  {
   "cell_type": "code",
   "execution_count": 21,
   "metadata": {},
   "outputs": [
    {
     "data": {
      "image/png": "[encoded data removed]",
      "text/plain": [
       "<Figure size 432x288 with 1 Axes>"
      ]
     },
     "metadata": {},
     "output_type": "display_data"
    }
   ],
   "source": [
    "plt.plot(range(len(history.history[\"val_acc\"])), history.history[\"val_acc\"], color=\"red\")\n",
    "plt.title(\"Validation accuracy\")\n",
    "plt.grid()"
   ]
  },
  {
   "cell_type": "markdown",
   "metadata": {},
   "source": [
    "## Test model\n",
    "\n",
    "We will use the test data we have loaded to test our model performance on unseen data."
   ]
  },
  {
   "cell_type": "code",
   "execution_count": 28,
   "metadata": {},
   "outputs": [
    {
     "name": "stdout",
     "output_type": "stream",
     "text": [
      "812/812 [==============================] - 0s 20us/step\n",
      "Test accuracy = 0.9211822663034711\n"
     ]
    }
   ],
   "source": [
    "test_results = model.evaluate(test_data,\n",
    "                              test_labels,\n",
    "                              batch_size=None,\n",
    "                              verbose=1)\n",
    "\n",
    "print(\"Test accuracy = {}\".format(test_results[1]))"
   ]
  },
  {
   "cell_type": "markdown",
   "metadata": {},
   "source": [
    "## Tensorboard\n",
    "\n",
    "To use tensorboard open a console, go to the project folder (`\"mushrooms\"`) and type:\n",
    "\n",
    "```bash\n",
    "tensorboard --logdir tensoboard_logs\\\n",
    "```"
   ]
  },
  {
   "cell_type": "markdown",
   "metadata": {},
   "source": [
    "### Tensoboard results\n",
    "\n",
    "#### Model graph\n",
    "\n",
    "The model graph shows the model architecture. The arrows represent the tensors flowing and their shape.\n",
    "\n",
    "![graph](notebook_images/keras_graph.png)\n",
    "\n",
    "#### Output layer values\n",
    "\n",
    "We can se the output layer values progress during training in this histogram. The distribution in the back shows the values when we start the training. There the we can see that the model outputs a lot of values near 0.5, but the model quickly learn to output values near 0 and 1. This layer has a sigmoid activation so the output values are always in the range (0, 1).\n",
    "\n",
    "![output_layer_histograms](notebook_images/keras_output_layer_histograms.png)\n",
    "\n",
    "#### Train set cost and accuracy\n",
    "\n",
    "Tensorboard shows us the scalar values we asked for, in this case the training set cost and accuracy.\n",
    "\n",
    "![training_scalars](notebook_images/keras_training_scalars.png)\n",
    "\n",
    "#### Validation set cost and accuracy\n",
    "\n",
    "We also add scalars in Tensorboard for the validation set cost and accuracy.\n",
    "\n",
    "![validation_scalars](notebook_images/keras_validation_scalars.png)"
   ]
  },
  {
   "cell_type": "code",
   "execution_count": null,
   "metadata": {},
   "outputs": [],
   "source": []
  }
 ],
 "metadata": {
  "kernelspec": {
   "display_name": "Python 3",
   "language": "python",
   "name": "python3"
  },
  "language_info": {
   "codemirror_mode": {
    "name": "ipython",
    "version": 3
   },
   "file_extension": ".py",
   "mimetype": "text/x-python",
   "name": "python",
   "nbconvert_exporter": "python",
   "pygments_lexer": "ipython3",
   "version": "3.6.5"
  }
 },
 "nbformat": 4,
 "nbformat_minor": 2
}
